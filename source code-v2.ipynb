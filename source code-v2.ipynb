{
 "cells": [
  {
   "cell_type": "code",
   "execution_count": 1,
   "metadata": {
    "id": "fk8zf1L3aaxD"
   },
   "outputs": [],
   "source": [
    "## Import libraries\n",
    "## ---------------------------------------------------------\n",
    "\n",
    "import numpy as np\n",
    "import pandas as pd\n",
    "import matplotlib.pyplot as plt\n",
    "import seaborn as sns\n",
    "import sklearn\n",
    "import math\n",
    "import xgboost as xgb\n",
    "import xgboost as xgb\n",
    "import warnings; warnings.simplefilter(action='ignore', category=FutureWarning)\n",
    "import os\n",
    "\n",
    "from sklearn.svm import SVR\n",
    "from xgboost import XGBClassifier\n",
    "from rdkit import Chem\n",
    "from sklearn.model_selection import train_test_split\n",
    "from sklearn.feature_selection import VarianceThreshold\n",
    "from sklearn.preprocessing import StandardScaler\n",
    "from sklearn.preprocessing import MinMaxScaler\n",
    "from sklearn.feature_selection import RFE\n",
    "from sklearn import svm\n",
    "from sklearn import preprocessing\n",
    "from sklearn.metrics import precision_score, recall_score, f1_score\n",
    "from sklearn.ensemble import RandomForestClassifier\n",
    "from sklearn import tree\n",
    "from sklearn import ensemble\n",
    "from sklearn.naive_bayes import GaussianNB\n",
    "from sklearn.neighbors import KNeighborsClassifier\n",
    "from sklearn.svm import SVC\n",
    "from sklearn.linear_model import LogisticRegression\n",
    "from sklearn.metrics import roc_curve, roc_auc_score\n",
    "from sklearn.model_selection import KFold\n",
    "from sklearn.tree import DecisionTreeClassifier\n",
    "from sklearn.model_selection import cross_val_score\n",
    "from scipy import stats\n",
    "from sklearn.feature_selection import f_classif,SelectKBest\n",
    "from sklearn.decomposition import PCA\n",
    "from sklearn.feature_selection import chi2\n",
    "from sklearn.decomposition import PCA\n",
    "from sklearn.linear_model import LogisticRegression\n",
    "from sklearn.model_selection import StratifiedKFold\n",
    "from sklearn.model_selection import GridSearchCV\n",
    "from sklearn.ensemble import StackingClassifier\n",
    "from sklearn.decomposition import PCA\n",
    "from sklearn import model_selection\n",
    "from sklearn import metrics\n",
    "from sklearn.metrics import precision_recall_curve\n",
    "from sklearn.metrics import confusion_matrix\n",
    "from sklearn.metrics import matthews_corrcoef\n",
    "from sklearn.metrics import auc\n",
    "from rdkit.Chem import Descriptors\n",
    "from rdkit.ML.Descriptors import MoleculeDescriptors\n",
    "from sklearn.metrics import roc_curve, roc_auc_score\n",
    "from sklearn import metrics\n",
    "from sklearn.metrics import precision_recall_curve\n",
    "from sklearn.metrics import confusion_matrix\n",
    "from sklearn.metrics import matthews_corrcoef\n",
    "from sklearn.metrics import roc_auc_score\n",
    "from sklearn.ensemble import AdaBoostClassifier\n",
    "from sklearn import linear_model"
   ]
  },
  {
   "cell_type": "code",
   "execution_count": 2,
   "metadata": {
    "id": "bwtlBCIha4Ml"
   },
   "outputs": [],
   "source": [
    "dataset_pad = pd.read_csv('PADEL.csv')\n",
    "dataset_cdk = pd.read_csv('CDK.csv')\n",
    "dataset_rdkit = pd.read_csv('RDKIT.csv')\n",
    "dataset_mordred = pd.read_csv('MODERED.csv')\n",
    "dataset_bluedesc = pd.read_csv('BLUDESC.csv')"
   ]
  },
  {
   "cell_type": "code",
   "execution_count": 3,
   "metadata": {
    "id": "7LiJnDUybcfz"
   },
   "outputs": [],
   "source": [
    "dataset_pad = dataset_pad.iloc[:, 2:]#take data from dataframe row and coloumns\n",
    "dataset_cdk = dataset_cdk.iloc[:, 2:]#take data from dataframe row and coloumns\n",
    "dataset_rdkit = dataset_rdkit.iloc[:, 2:]#take data from dataframe row and coloumns\n",
    "dataset_mordred = dataset_mordred.iloc[:, 2:]#take data from dataframe row and coloumns\n",
    "dataset_bluedesc = dataset_mordred.iloc[:, 2:]#take data from dataframe row and coloumns"
   ]
  },
  {
   "cell_type": "code",
   "execution_count": 4,
   "metadata": {
    "id": "KTPHsY2zb9xv"
   },
   "outputs": [],
   "source": [
    "dataset_pad=dataset_pad.drop([\"TARGET\"],axis=1)\n",
    "dataset_cdk=dataset_cdk.drop([\"TARGET\"],axis=1)\n",
    "dataset_rdkit=dataset_rdkit.drop([\"TARGET\"],axis=1)\n",
    "dataset_mordred=dataset_mordred.drop([\"TARGET\"],axis=1)"
   ]
  },
  {
   "cell_type": "code",
   "execution_count": 5,
   "metadata": {
    "colab": {
     "base_uri": "https://localhost:8080/",
     "height": 236
    },
    "id": "_xGhgJVhdSKF",
    "outputId": "30befbce-dfed-4ea3-ce3f-429e2305a68c"
   },
   "outputs": [
    {
     "data": {
      "text/html": [
       "<div>\n",
       "<style scoped>\n",
       "    .dataframe tbody tr th:only-of-type {\n",
       "        vertical-align: middle;\n",
       "    }\n",
       "\n",
       "    .dataframe tbody tr th {\n",
       "        vertical-align: top;\n",
       "    }\n",
       "\n",
       "    .dataframe thead th {\n",
       "        text-align: right;\n",
       "    }\n",
       "</style>\n",
       "<table border=\"1\" class=\"dataframe\">\n",
       "  <thead>\n",
       "    <tr style=\"text-align: right;\">\n",
       "      <th></th>\n",
       "      <th>nAcid</th>\n",
       "      <th>ALogP</th>\n",
       "      <th>ALogp2</th>\n",
       "      <th>AMR</th>\n",
       "      <th>nA</th>\n",
       "      <th>nR</th>\n",
       "      <th>nN</th>\n",
       "      <th>nD</th>\n",
       "      <th>nC</th>\n",
       "      <th>nF</th>\n",
       "      <th>...</th>\n",
       "      <th>TSRW10</th>\n",
       "      <th>MW</th>\n",
       "      <th>AMW</th>\n",
       "      <th>WPath</th>\n",
       "      <th>WPol</th>\n",
       "      <th>Zagreb1</th>\n",
       "      <th>Zagreb2</th>\n",
       "      <th>mZagreb1</th>\n",
       "      <th>mZagreb2</th>\n",
       "      <th>TARGET</th>\n",
       "    </tr>\n",
       "  </thead>\n",
       "  <tbody>\n",
       "    <tr>\n",
       "      <th>0</th>\n",
       "      <td>0</td>\n",
       "      <td>-0.2314</td>\n",
       "      <td>0.053546</td>\n",
       "      <td>44.7549</td>\n",
       "      <td>0</td>\n",
       "      <td>0</td>\n",
       "      <td>0</td>\n",
       "      <td>0</td>\n",
       "      <td>0</td>\n",
       "      <td>0</td>\n",
       "      <td>...</td>\n",
       "      <td>40.344003</td>\n",
       "      <td>151.063329</td>\n",
       "      <td>7.553166</td>\n",
       "      <td>166</td>\n",
       "      <td>11</td>\n",
       "      <td>50</td>\n",
       "      <td>53</td>\n",
       "      <td>4.583333</td>\n",
       "      <td>2.500000</td>\n",
       "      <td>1</td>\n",
       "    </tr>\n",
       "    <tr>\n",
       "      <th>1</th>\n",
       "      <td>0</td>\n",
       "      <td>-2.3401</td>\n",
       "      <td>5.476068</td>\n",
       "      <td>51.5213</td>\n",
       "      <td>0</td>\n",
       "      <td>0</td>\n",
       "      <td>0</td>\n",
       "      <td>0</td>\n",
       "      <td>0</td>\n",
       "      <td>0</td>\n",
       "      <td>...</td>\n",
       "      <td>62.224603</td>\n",
       "      <td>225.086189</td>\n",
       "      <td>8.336526</td>\n",
       "      <td>453</td>\n",
       "      <td>22</td>\n",
       "      <td>80</td>\n",
       "      <td>93</td>\n",
       "      <td>5.555556</td>\n",
       "      <td>3.666667</td>\n",
       "      <td>0</td>\n",
       "    </tr>\n",
       "    <tr>\n",
       "      <th>2</th>\n",
       "      <td>0</td>\n",
       "      <td>0.1145</td>\n",
       "      <td>0.013110</td>\n",
       "      <td>70.8731</td>\n",
       "      <td>0</td>\n",
       "      <td>0</td>\n",
       "      <td>0</td>\n",
       "      <td>0</td>\n",
       "      <td>0</td>\n",
       "      <td>0</td>\n",
       "      <td>...</td>\n",
       "      <td>49.239030</td>\n",
       "      <td>239.152143</td>\n",
       "      <td>6.293477</td>\n",
       "      <td>560</td>\n",
       "      <td>22</td>\n",
       "      <td>82</td>\n",
       "      <td>90</td>\n",
       "      <td>8.006944</td>\n",
       "      <td>3.763889</td>\n",
       "      <td>0</td>\n",
       "    </tr>\n",
       "    <tr>\n",
       "      <th>3</th>\n",
       "      <td>4</td>\n",
       "      <td>-2.4572</td>\n",
       "      <td>6.037832</td>\n",
       "      <td>42.8430</td>\n",
       "      <td>0</td>\n",
       "      <td>0</td>\n",
       "      <td>0</td>\n",
       "      <td>0</td>\n",
       "      <td>0</td>\n",
       "      <td>0</td>\n",
       "      <td>...</td>\n",
       "      <td>46.206502</td>\n",
       "      <td>249.016725</td>\n",
       "      <td>9.222842</td>\n",
       "      <td>281</td>\n",
       "      <td>23</td>\n",
       "      <td>68</td>\n",
       "      <td>78</td>\n",
       "      <td>8.937500</td>\n",
       "      <td>3.000000</td>\n",
       "      <td>0</td>\n",
       "    </tr>\n",
       "    <tr>\n",
       "      <th>4</th>\n",
       "      <td>0</td>\n",
       "      <td>-0.9351</td>\n",
       "      <td>0.874412</td>\n",
       "      <td>33.8177</td>\n",
       "      <td>0</td>\n",
       "      <td>0</td>\n",
       "      <td>0</td>\n",
       "      <td>0</td>\n",
       "      <td>0</td>\n",
       "      <td>0</td>\n",
       "      <td>...</td>\n",
       "      <td>53.745115</td>\n",
       "      <td>136.038511</td>\n",
       "      <td>9.717036</td>\n",
       "      <td>105</td>\n",
       "      <td>12</td>\n",
       "      <td>52</td>\n",
       "      <td>61</td>\n",
       "      <td>2.833333</td>\n",
       "      <td>2.222222</td>\n",
       "      <td>0</td>\n",
       "    </tr>\n",
       "  </tbody>\n",
       "</table>\n",
       "<p>5 rows × 4097 columns</p>\n",
       "</div>"
      ],
      "text/plain": [
       "   nAcid   ALogP    ALogp2      AMR  nA  nR  nN  nD  nC  nF  ...     TSRW10  \\\n",
       "0      0 -0.2314  0.053546  44.7549   0   0   0   0   0   0  ...  40.344003   \n",
       "1      0 -2.3401  5.476068  51.5213   0   0   0   0   0   0  ...  62.224603   \n",
       "2      0  0.1145  0.013110  70.8731   0   0   0   0   0   0  ...  49.239030   \n",
       "3      4 -2.4572  6.037832  42.8430   0   0   0   0   0   0  ...  46.206502   \n",
       "4      0 -0.9351  0.874412  33.8177   0   0   0   0   0   0  ...  53.745115   \n",
       "\n",
       "           MW       AMW  WPath  WPol  Zagreb1  Zagreb2  mZagreb1  mZagreb2  \\\n",
       "0  151.063329  7.553166    166    11       50       53  4.583333  2.500000   \n",
       "1  225.086189  8.336526    453    22       80       93  5.555556  3.666667   \n",
       "2  239.152143  6.293477    560    22       82       90  8.006944  3.763889   \n",
       "3  249.016725  9.222842    281    23       68       78  8.937500  3.000000   \n",
       "4  136.038511  9.717036    105    12       52       61  2.833333  2.222222   \n",
       "\n",
       "   TARGET  \n",
       "0       1  \n",
       "1       0  \n",
       "2       0  \n",
       "3       0  \n",
       "4       0  \n",
       "\n",
       "[5 rows x 4097 columns]"
      ]
     },
     "execution_count": 5,
     "metadata": {},
     "output_type": "execute_result"
    }
   ],
   "source": [
    "complete_data = pd.concat([dataset_pad, dataset_cdk, dataset_rdkit, dataset_mordred, dataset_bluedesc], axis=1)\n",
    "complete_data =complete_data.dropna(axis=1)\n",
    "complete_data.head()"
   ]
  },
  {
   "cell_type": "code",
   "execution_count": 6,
   "metadata": {
    "colab": {
     "base_uri": "https://localhost:8080/"
    },
    "id": "isYtEHQYdmXf",
    "outputId": "93e6a589-4c8e-4a67-a337-716ff689192c"
   },
   "outputs": [
    {
     "name": "stdout",
     "output_type": "stream",
     "text": [
      "680\n"
     ]
    }
   ],
   "source": [
    "#VARIANCE THRESHOLD to REMOVE the CONSTANT FEATURES\n",
    "from sklearn.feature_selection import VarianceThreshold\n",
    "var_thres=VarianceThreshold(threshold=0)\n",
    "var_thres.fit(complete_data)\n",
    "\n",
    "var_thres.get_support()\n",
    "complete_data.columns[var_thres.get_support()]\n",
    "\n",
    "constant_columns = [column for column in complete_data.columns\n",
    "                    if column not in complete_data.columns[var_thres.get_support()]]\n",
    "\n",
    "print(len(constant_columns))"
   ]
  },
  {
   "cell_type": "code",
   "execution_count": 7,
   "metadata": {
    "id": "fDQNLvUueenc"
   },
   "outputs": [],
   "source": [
    "complete_data2=complete_data.drop(constant_columns,axis=1)\n"
   ]
  },
  {
   "cell_type": "code",
   "execution_count": 8,
   "metadata": {
    "id": "CIas7grpe1SB"
   },
   "outputs": [],
   "source": [
    "# Correlation\n",
    "def correlation(dataset, threshold):\n",
    "    col_corr = set() \n",
    "    corr_matrix = dataset.corr()\n",
    "    for i in range(len(corr_matrix.columns)):\n",
    "        for j in range(i):\n",
    "            if abs(corr_matrix.iloc[i, j]) > threshold: \n",
    "                colname = corr_matrix.columns[i]  \n",
    "                col_corr.add(colname)\n",
    "    return col_corr"
   ]
  },
  {
   "cell_type": "code",
   "execution_count": 9,
   "metadata": {
    "id": "QXFMP31ke4D3"
   },
   "outputs": [],
   "source": [
    "corr_features  = correlation(complete_data2, 0.95)\n",
    "complete_data3 = complete_data2.drop(corr_features,axis=1)"
   ]
  },
  {
   "cell_type": "code",
   "execution_count": 10,
   "metadata": {
    "colab": {
     "base_uri": "https://localhost:8080/",
     "height": 441
    },
    "id": "OIPe9HhOfjnv",
    "outputId": "59bd2054-8c3f-4e46-b616-3dfec9abd2d8"
   },
   "outputs": [
    {
     "name": "stdout",
     "output_type": "stream",
     "text": [
      "<class 'numpy.ndarray'>\n"
     ]
    },
    {
     "data": {
      "text/html": [
       "<div>\n",
       "<style scoped>\n",
       "    .dataframe tbody tr th:only-of-type {\n",
       "        vertical-align: middle;\n",
       "    }\n",
       "\n",
       "    .dataframe tbody tr th {\n",
       "        vertical-align: top;\n",
       "    }\n",
       "\n",
       "    .dataframe thead th {\n",
       "        text-align: right;\n",
       "    }\n",
       "</style>\n",
       "<table border=\"1\" class=\"dataframe\">\n",
       "  <thead>\n",
       "    <tr style=\"text-align: right;\">\n",
       "      <th></th>\n",
       "      <th>ALogP</th>\n",
       "      <th>ALogp2</th>\n",
       "      <th>AMR</th>\n",
       "      <th>nA</th>\n",
       "      <th>nR</th>\n",
       "      <th>nD</th>\n",
       "      <th>nE</th>\n",
       "      <th>nL</th>\n",
       "      <th>nK</th>\n",
       "      <th>nM</th>\n",
       "      <th>...</th>\n",
       "      <th>fr_sulfonamd</th>\n",
       "      <th>fr_sulfone</th>\n",
       "      <th>fr_thiazole</th>\n",
       "      <th>fr_thiophene</th>\n",
       "      <th>fr_unbrch_alkane</th>\n",
       "      <th>fr_urea</th>\n",
       "      <th>ABC</th>\n",
       "      <th>n12Ring</th>\n",
       "      <th>n12Ring</th>\n",
       "      <th>TARGET</th>\n",
       "    </tr>\n",
       "  </thead>\n",
       "  <tbody>\n",
       "    <tr>\n",
       "      <th>0</th>\n",
       "      <td>0.811380</td>\n",
       "      <td>0.000166</td>\n",
       "      <td>0.054328</td>\n",
       "      <td>0.000000</td>\n",
       "      <td>0.0</td>\n",
       "      <td>0.0</td>\n",
       "      <td>0.0</td>\n",
       "      <td>0.0</td>\n",
       "      <td>0.0</td>\n",
       "      <td>0.0</td>\n",
       "      <td>...</td>\n",
       "      <td>0.0</td>\n",
       "      <td>0.0</td>\n",
       "      <td>0.0</td>\n",
       "      <td>0.0</td>\n",
       "      <td>0.0</td>\n",
       "      <td>0.0</td>\n",
       "      <td>0.118425</td>\n",
       "      <td>0.0</td>\n",
       "      <td>0.0</td>\n",
       "      <td>1.0</td>\n",
       "    </tr>\n",
       "    <tr>\n",
       "      <th>1</th>\n",
       "      <td>0.714805</td>\n",
       "      <td>0.016999</td>\n",
       "      <td>0.068298</td>\n",
       "      <td>0.000000</td>\n",
       "      <td>0.0</td>\n",
       "      <td>0.0</td>\n",
       "      <td>0.0</td>\n",
       "      <td>0.0</td>\n",
       "      <td>0.0</td>\n",
       "      <td>0.0</td>\n",
       "      <td>...</td>\n",
       "      <td>0.0</td>\n",
       "      <td>0.0</td>\n",
       "      <td>0.0</td>\n",
       "      <td>0.0</td>\n",
       "      <td>0.2</td>\n",
       "      <td>0.0</td>\n",
       "      <td>0.177035</td>\n",
       "      <td>0.0</td>\n",
       "      <td>0.0</td>\n",
       "      <td>0.0</td>\n",
       "    </tr>\n",
       "    <tr>\n",
       "      <th>2</th>\n",
       "      <td>0.827222</td>\n",
       "      <td>0.000040</td>\n",
       "      <td>0.108253</td>\n",
       "      <td>0.000000</td>\n",
       "      <td>0.0</td>\n",
       "      <td>0.0</td>\n",
       "      <td>0.0</td>\n",
       "      <td>0.0</td>\n",
       "      <td>0.0</td>\n",
       "      <td>0.0</td>\n",
       "      <td>...</td>\n",
       "      <td>0.0</td>\n",
       "      <td>0.0</td>\n",
       "      <td>0.0</td>\n",
       "      <td>0.0</td>\n",
       "      <td>0.0</td>\n",
       "      <td>0.0</td>\n",
       "      <td>0.184590</td>\n",
       "      <td>0.0</td>\n",
       "      <td>0.0</td>\n",
       "      <td>0.0</td>\n",
       "    </tr>\n",
       "    <tr>\n",
       "      <th>3</th>\n",
       "      <td>0.709442</td>\n",
       "      <td>0.018743</td>\n",
       "      <td>0.050380</td>\n",
       "      <td>0.000000</td>\n",
       "      <td>0.0</td>\n",
       "      <td>0.0</td>\n",
       "      <td>0.0</td>\n",
       "      <td>0.0</td>\n",
       "      <td>0.0</td>\n",
       "      <td>0.0</td>\n",
       "      <td>...</td>\n",
       "      <td>0.0</td>\n",
       "      <td>0.0</td>\n",
       "      <td>0.0</td>\n",
       "      <td>0.0</td>\n",
       "      <td>0.0</td>\n",
       "      <td>0.0</td>\n",
       "      <td>0.147774</td>\n",
       "      <td>0.0</td>\n",
       "      <td>0.0</td>\n",
       "      <td>0.0</td>\n",
       "    </tr>\n",
       "    <tr>\n",
       "      <th>4</th>\n",
       "      <td>0.779152</td>\n",
       "      <td>0.002714</td>\n",
       "      <td>0.031746</td>\n",
       "      <td>0.000000</td>\n",
       "      <td>0.0</td>\n",
       "      <td>0.0</td>\n",
       "      <td>0.0</td>\n",
       "      <td>0.0</td>\n",
       "      <td>0.0</td>\n",
       "      <td>0.0</td>\n",
       "      <td>...</td>\n",
       "      <td>0.0</td>\n",
       "      <td>0.0</td>\n",
       "      <td>0.0</td>\n",
       "      <td>0.0</td>\n",
       "      <td>0.0</td>\n",
       "      <td>0.0</td>\n",
       "      <td>0.114047</td>\n",
       "      <td>0.0</td>\n",
       "      <td>0.0</td>\n",
       "      <td>0.0</td>\n",
       "    </tr>\n",
       "    <tr>\n",
       "      <th>...</th>\n",
       "      <td>...</td>\n",
       "      <td>...</td>\n",
       "      <td>...</td>\n",
       "      <td>...</td>\n",
       "      <td>...</td>\n",
       "      <td>...</td>\n",
       "      <td>...</td>\n",
       "      <td>...</td>\n",
       "      <td>...</td>\n",
       "      <td>...</td>\n",
       "      <td>...</td>\n",
       "      <td>...</td>\n",
       "      <td>...</td>\n",
       "      <td>...</td>\n",
       "      <td>...</td>\n",
       "      <td>...</td>\n",
       "      <td>...</td>\n",
       "      <td>...</td>\n",
       "      <td>...</td>\n",
       "      <td>...</td>\n",
       "      <td>...</td>\n",
       "    </tr>\n",
       "    <tr>\n",
       "      <th>220</th>\n",
       "      <td>0.813848</td>\n",
       "      <td>0.000097</td>\n",
       "      <td>0.122514</td>\n",
       "      <td>0.000000</td>\n",
       "      <td>0.0</td>\n",
       "      <td>0.0</td>\n",
       "      <td>0.0</td>\n",
       "      <td>0.0</td>\n",
       "      <td>0.0</td>\n",
       "      <td>0.0</td>\n",
       "      <td>...</td>\n",
       "      <td>0.0</td>\n",
       "      <td>0.0</td>\n",
       "      <td>0.0</td>\n",
       "      <td>0.0</td>\n",
       "      <td>0.0</td>\n",
       "      <td>0.0</td>\n",
       "      <td>0.210319</td>\n",
       "      <td>0.0</td>\n",
       "      <td>0.0</td>\n",
       "      <td>0.0</td>\n",
       "    </tr>\n",
       "    <tr>\n",
       "      <th>221</th>\n",
       "      <td>0.845802</td>\n",
       "      <td>0.000840</td>\n",
       "      <td>0.222442</td>\n",
       "      <td>0.066667</td>\n",
       "      <td>0.0</td>\n",
       "      <td>0.0</td>\n",
       "      <td>0.0</td>\n",
       "      <td>0.0</td>\n",
       "      <td>0.0</td>\n",
       "      <td>0.0</td>\n",
       "      <td>...</td>\n",
       "      <td>0.0</td>\n",
       "      <td>0.0</td>\n",
       "      <td>0.0</td>\n",
       "      <td>0.0</td>\n",
       "      <td>0.0</td>\n",
       "      <td>0.0</td>\n",
       "      <td>0.355077</td>\n",
       "      <td>0.0</td>\n",
       "      <td>0.0</td>\n",
       "      <td>0.0</td>\n",
       "    </tr>\n",
       "    <tr>\n",
       "      <th>222</th>\n",
       "      <td>0.453091</td>\n",
       "      <td>0.201402</td>\n",
       "      <td>0.694635</td>\n",
       "      <td>0.466667</td>\n",
       "      <td>0.0</td>\n",
       "      <td>0.0</td>\n",
       "      <td>0.0</td>\n",
       "      <td>0.2</td>\n",
       "      <td>0.0</td>\n",
       "      <td>0.0</td>\n",
       "      <td>...</td>\n",
       "      <td>0.0</td>\n",
       "      <td>0.0</td>\n",
       "      <td>0.0</td>\n",
       "      <td>0.0</td>\n",
       "      <td>0.0</td>\n",
       "      <td>0.0</td>\n",
       "      <td>0.000000</td>\n",
       "      <td>0.0</td>\n",
       "      <td>0.0</td>\n",
       "      <td>1.0</td>\n",
       "    </tr>\n",
       "    <tr>\n",
       "      <th>223</th>\n",
       "      <td>0.800659</td>\n",
       "      <td>0.000672</td>\n",
       "      <td>0.128526</td>\n",
       "      <td>0.000000</td>\n",
       "      <td>0.0</td>\n",
       "      <td>0.0</td>\n",
       "      <td>0.0</td>\n",
       "      <td>0.0</td>\n",
       "      <td>0.0</td>\n",
       "      <td>0.0</td>\n",
       "      <td>...</td>\n",
       "      <td>0.0</td>\n",
       "      <td>0.0</td>\n",
       "      <td>0.0</td>\n",
       "      <td>0.0</td>\n",
       "      <td>0.0</td>\n",
       "      <td>0.0</td>\n",
       "      <td>0.220958</td>\n",
       "      <td>0.0</td>\n",
       "      <td>0.0</td>\n",
       "      <td>0.0</td>\n",
       "    </tr>\n",
       "    <tr>\n",
       "      <th>224</th>\n",
       "      <td>0.872846</td>\n",
       "      <td>0.003829</td>\n",
       "      <td>0.166658</td>\n",
       "      <td>0.000000</td>\n",
       "      <td>0.0</td>\n",
       "      <td>0.0</td>\n",
       "      <td>0.0</td>\n",
       "      <td>0.0</td>\n",
       "      <td>0.0</td>\n",
       "      <td>0.0</td>\n",
       "      <td>...</td>\n",
       "      <td>0.0</td>\n",
       "      <td>0.0</td>\n",
       "      <td>0.0</td>\n",
       "      <td>0.0</td>\n",
       "      <td>0.0</td>\n",
       "      <td>0.0</td>\n",
       "      <td>0.263288</td>\n",
       "      <td>0.0</td>\n",
       "      <td>0.0</td>\n",
       "      <td>0.0</td>\n",
       "    </tr>\n",
       "  </tbody>\n",
       "</table>\n",
       "<p>225 rows × 444 columns</p>\n",
       "</div>"
      ],
      "text/plain": [
       "        ALogP    ALogp2       AMR        nA   nR   nD   nE   nL   nK   nM  \\\n",
       "0    0.811380  0.000166  0.054328  0.000000  0.0  0.0  0.0  0.0  0.0  0.0   \n",
       "1    0.714805  0.016999  0.068298  0.000000  0.0  0.0  0.0  0.0  0.0  0.0   \n",
       "2    0.827222  0.000040  0.108253  0.000000  0.0  0.0  0.0  0.0  0.0  0.0   \n",
       "3    0.709442  0.018743  0.050380  0.000000  0.0  0.0  0.0  0.0  0.0  0.0   \n",
       "4    0.779152  0.002714  0.031746  0.000000  0.0  0.0  0.0  0.0  0.0  0.0   \n",
       "..        ...       ...       ...       ...  ...  ...  ...  ...  ...  ...   \n",
       "220  0.813848  0.000097  0.122514  0.000000  0.0  0.0  0.0  0.0  0.0  0.0   \n",
       "221  0.845802  0.000840  0.222442  0.066667  0.0  0.0  0.0  0.0  0.0  0.0   \n",
       "222  0.453091  0.201402  0.694635  0.466667  0.0  0.0  0.0  0.2  0.0  0.0   \n",
       "223  0.800659  0.000672  0.128526  0.000000  0.0  0.0  0.0  0.0  0.0  0.0   \n",
       "224  0.872846  0.003829  0.166658  0.000000  0.0  0.0  0.0  0.0  0.0  0.0   \n",
       "\n",
       "     ...  fr_sulfonamd  fr_sulfone  fr_thiazole  fr_thiophene  \\\n",
       "0    ...           0.0         0.0          0.0           0.0   \n",
       "1    ...           0.0         0.0          0.0           0.0   \n",
       "2    ...           0.0         0.0          0.0           0.0   \n",
       "3    ...           0.0         0.0          0.0           0.0   \n",
       "4    ...           0.0         0.0          0.0           0.0   \n",
       "..   ...           ...         ...          ...           ...   \n",
       "220  ...           0.0         0.0          0.0           0.0   \n",
       "221  ...           0.0         0.0          0.0           0.0   \n",
       "222  ...           0.0         0.0          0.0           0.0   \n",
       "223  ...           0.0         0.0          0.0           0.0   \n",
       "224  ...           0.0         0.0          0.0           0.0   \n",
       "\n",
       "     fr_unbrch_alkane  fr_urea       ABC  n12Ring  n12Ring  TARGET  \n",
       "0                 0.0      0.0  0.118425      0.0      0.0     1.0  \n",
       "1                 0.2      0.0  0.177035      0.0      0.0     0.0  \n",
       "2                 0.0      0.0  0.184590      0.0      0.0     0.0  \n",
       "3                 0.0      0.0  0.147774      0.0      0.0     0.0  \n",
       "4                 0.0      0.0  0.114047      0.0      0.0     0.0  \n",
       "..                ...      ...       ...      ...      ...     ...  \n",
       "220               0.0      0.0  0.210319      0.0      0.0     0.0  \n",
       "221               0.0      0.0  0.355077      0.0      0.0     0.0  \n",
       "222               0.0      0.0  0.000000      0.0      0.0     1.0  \n",
       "223               0.0      0.0  0.220958      0.0      0.0     0.0  \n",
       "224               0.0      0.0  0.263288      0.0      0.0     0.0  \n",
       "\n",
       "[225 rows x 444 columns]"
      ]
     },
     "execution_count": 10,
     "metadata": {},
     "output_type": "execute_result"
    }
   ],
   "source": [
    "#Min-Max Scaler\n",
    "minmax_scale = MinMaxScaler()\n",
    "minmax_scale.fit((complete_data3))\n",
    "df_exp_minmax=minmax_scale.transform(complete_data3)\n",
    "print(type(df_exp_minmax))\n",
    "df_exp_minmax_new = pd.DataFrame(df_exp_minmax,columns=complete_data3.columns)\n",
    "df_exp_minmax_new"
   ]
  },
  {
   "cell_type": "code",
   "execution_count": 43,
   "metadata": {
    "id": "Jweyg0v-fwGa"
   },
   "outputs": [],
   "source": [
    "X = df_exp_minmax_new.iloc[:,0:-1]\n",
    "y= df_exp_minmax_new[\"TARGET\"]\n",
    "\n",
    "from sklearn.feature_selection import SelectPercentile, chi2\n",
    "X_new = SelectPercentile(chi2, percentile=10).fit_transform(X, y)\n",
    "#y.shape\n",
    "#print(y)"
   ]
  },
  {
   "cell_type": "code",
   "execution_count": 12,
   "metadata": {
    "colab": {
     "base_uri": "https://localhost:8080/"
    },
    "id": "edzXArglnQPN",
    "outputId": "6352c3ae-e526-4e84-eed8-1bd4840e8589"
   },
   "outputs": [
    {
     "data": {
      "text/plain": [
       "(225, 45)"
      ]
     },
     "execution_count": 12,
     "metadata": {},
     "output_type": "execute_result"
    }
   ],
   "source": [
    "X_new.shape #(455,75)"
   ]
  },
  {
   "cell_type": "code",
   "execution_count": 13,
   "metadata": {
    "id": "aUEa1XqngJPA"
   },
   "outputs": [],
   "source": [
    "### train Test split\n",
    "from sklearn.model_selection import train_test_split\n",
    "X_train,X_test,y_train,y_test=train_test_split(X_new,y,test_size=0.2,random_state=42)"
   ]
  },
  {
   "cell_type": "code",
   "execution_count": 14,
   "metadata": {
    "id": "uHOAJJcCgTbz"
   },
   "outputs": [],
   "source": [
    "X_train=np.array(X_train)\n",
    "X_test=np.array(X_test)\n",
    "y_train=np.array(y_train)\n",
    "y_test=np.array(y_test)"
   ]
  },
  {
   "cell_type": "code",
   "execution_count": 15,
   "metadata": {
    "id": "bXLJ-NYogbjy"
   },
   "outputs": [],
   "source": [
    "# cross validation \n",
    "def CF_Validation(k,train_data,train_targets):\n",
    "    num_val_samples = len(train_data) // k   # number of samples is divided by number of folds\n",
    "    total_validation_data=[]\n",
    "    total_validation_targets=[]\n",
    "    total_train_data=[]\n",
    "    total_train_targets=[]\n",
    "    \n",
    "    for i in range(k):\n",
    "        \n",
    "        val_data = train_data[i * num_val_samples: (i + 1) * num_val_samples]\n",
    "        val_targets = train_targets[i * num_val_samples: (i + 1) * num_val_samples]\n",
    "        \n",
    "        partial_train_data = np.concatenate(\n",
    "            [train_data[:i * num_val_samples],\n",
    "            train_data[(i + 1) * num_val_samples:]],\n",
    "            axis=0)\n",
    "        partial_train_targets = np.concatenate(\n",
    "            [train_targets[:i * num_val_samples],\n",
    "            train_targets[(i + 1) * num_val_samples:]],\n",
    "            axis=0)\n",
    "    \n",
    "        total_validation_data.append(val_data)\n",
    "        total_validation_targets.append(val_targets) \n",
    "    \n",
    "        total_train_data.append(partial_train_data)\n",
    "        total_train_targets.append(partial_train_targets)\n",
    "    return total_train_data,total_train_targets,total_validation_data,total_validation_targets"
   ]
  },
  {
   "cell_type": "code",
   "execution_count": 16,
   "metadata": {
    "id": "3CyR2pS3gonb"
   },
   "outputs": [],
   "source": [
    "def get_vec_data(coll_vec,coll_label,k):\n",
    "    vec_data =[]\n",
    "    t_vec =[]\n",
    "    for i in range(k):\n",
    "        vec_data = coll_vec[i], coll_label[i]\n",
    "        t_vec.append(vec_data)\n",
    "    return t_vec"
   ]
  },
  {
   "cell_type": "code",
   "execution_count": 17,
   "metadata": {
    "id": "53N0anOCg60b"
   },
   "outputs": [],
   "source": [
    "def Machine_Learning(k,ML_model,t_vec_train,t_vec_val,t_vec_test):\n",
    "    total_y_pred_train =[]\n",
    "    total_y_pred_test =[]\n",
    "    total_y_true_train =[]\n",
    "    total_y_true_test =[]\n",
    "    \n",
    "    for i in range(k):\n",
    "        model = ML_model\n",
    "\n",
    "        # data have 5 different arrangements (5 fold)\n",
    "        # Train the model using the training sets\n",
    "        features = t_vec_train[i][0]\n",
    "        label = t_vec_train[i][1]\n",
    "        model.fit(features,label)\n",
    "\n",
    "        #Predict Output \n",
    "        # evaluation of training session\n",
    "        features_v = t_vec_val[i][0]\n",
    "        label_v  = t_vec_val[i][1]\n",
    "        \n",
    "        features_train = np.concatenate((features,features_v),axis=0)\n",
    "        \n",
    "        y_pred_train= model.predict(features_train)\n",
    "        y_true_train =np.concatenate((label,label_v),axis=0) \n",
    "        \n",
    "               \n",
    "        #evaluation of test session\n",
    "        \n",
    "        y_pred_test= model.predict(t_vec_test[0])\n",
    "        y_true_test = t_vec_test[1]\n",
    "        \n",
    "        total_y_pred_train.append(y_pred_train)\n",
    "        total_y_pred_test.append(y_pred_test)\n",
    "        total_y_true_train.append(y_true_train)\n",
    "        total_y_true_test.append(y_true_test)\n",
    "        \n",
    "    return total_y_pred_train,total_y_true_train,total_y_pred_test,total_y_true_test"
   ]
  },
  {
   "cell_type": "code",
   "execution_count": 18,
   "metadata": {
    "id": "fIjJu2ZMhQ8c"
   },
   "outputs": [],
   "source": [
    "def Total_Performances(k, total_y_pred_train,total_y_true_train,total_y_pred_test,total_y_true_test):\n",
    "    total_cm_train=[]\n",
    "    total_cm_test=[]\n",
    "    total_accuracy_train=[]\n",
    "    total_accuracy_test=[]\n",
    "\n",
    "    total_sensitivity_train=[]\n",
    "    total_sensitivity_test=[]\n",
    "\n",
    "    total_specificity_train=[]\n",
    "    total_specificity_test=[]\n",
    "\n",
    "    total_MCC_train =[]\n",
    "    total_MCC_test =[]\n",
    "\n",
    "    total_AUC_train =[]\n",
    "    total_AUC_test =[]\n",
    "\n",
    "    for j in range(k):\n",
    "        y_pred_train = total_y_pred_train[j]\n",
    "        y_pred_test = total_y_pred_test[j] \n",
    "        y_true_train =total_y_true_train[j]\n",
    "        y_true_test = total_y_true_test[j]\n",
    "        \n",
    "        for i in range(len(y_pred_train)):\n",
    "            if y_pred_train[i] <0.5 :\n",
    "                y_pred_train[i] = 0\n",
    "            else :\n",
    "                y_pred_train[i] = 1\n",
    "    \n",
    "        for i in range(len(y_pred_test)):\n",
    "            if y_pred_test[i] <0.5:\n",
    "                y_pred_test[i] = 0\n",
    "            else :\n",
    "                y_pred_test[i] = 1   \n",
    "            \n",
    "        total_y_pred_train.append(y_pred_train)\n",
    "        total_y_pred_test.append(y_pred_test)\n",
    "    \n",
    "        total_cm_train.append(confusion_matrix(y_true_train, y_pred_train))\n",
    "        total_cm_test.append(confusion_matrix(y_true_test, y_pred_test))\n",
    "    \n",
    "    \n",
    "        total_MCC_train.append(matthews_corrcoef(y_true_train, y_pred_train))\n",
    "        total_MCC_test.append(matthews_corrcoef(y_true_test, y_pred_test))     \n",
    "        fpr1, tpr1, thresholds1 = roc_curve(y_true_train, y_pred_train, pos_label=1)\n",
    "        fpr2, tpr2, thresholds2 = roc_curve(y_true_test, y_pred_test, pos_label=1)\n",
    "        total_AUC_train.append(auc(fpr1, tpr1))\n",
    "        total_AUC_test.append(auc(fpr2,tpr2))\n",
    "        \n",
    "    for i in range(k):\n",
    "        c_m_train = total_cm_train[i]\n",
    "        c_m_test = total_cm_test[i]\n",
    "        total_cmtrain=sum(sum(c_m_train))\n",
    "        total_cmtest=sum(sum(c_m_test))\n",
    "    \n",
    "        trainAccuracy = (c_m_train[0,0]+c_m_train[1,1])/total_cmtrain\n",
    "        testAccuracy = (c_m_test[0,0]+c_m_test[1,1])/total_cmtest\n",
    "    \n",
    "        trainSensitivity = c_m_train[1,1]/(c_m_train[1,0]+c_m_train[1,1])\n",
    "        testSensitivity = c_m_test[1,1]/(c_m_test[1,0]+c_m_test[1,1])\n",
    "    \n",
    "        trainSpecificity = c_m_train[0,0]/(c_m_train[0,0]+c_m_train[0,1])\n",
    "        testSpecificity = c_m_test[0,0]/(c_m_test[0,0]+c_m_test[0,1])               \n",
    "    \n",
    "        total_accuracy_train.append(trainAccuracy)\n",
    "        total_accuracy_test.append(testAccuracy)\n",
    "        total_sensitivity_train.append(trainSensitivity)\n",
    "        total_sensitivity_test.append(testSensitivity)                      \n",
    "        total_specificity_train.append(trainSpecificity)\n",
    "        total_specificity_test.append(testSpecificity)\n",
    "        \n",
    "    for i in range (k): \n",
    "        total_accuracy_train[i]    =  round(total_accuracy_train[i],4)\n",
    "        total_accuracy_test[i]     =  round(total_accuracy_test[i],4)\n",
    "        total_sensitivity_train[i] =  round(total_sensitivity_train[i],4)\n",
    "        total_sensitivity_test[i]  =  round(total_sensitivity_test[i],4)\n",
    "        total_specificity_train[i] =  round(total_specificity_train[i],4)\n",
    "        total_specificity_test[i]  =  round(total_specificity_test[i],4)\n",
    "        total_MCC_train[i]         =  round(total_MCC_train[i],4)\n",
    "        total_MCC_test[i]          =  round(total_MCC_test[i],4)\n",
    "        total_AUC_train[i]         =  round(total_AUC_train[i],4)\n",
    "        total_AUC_test[i]          =  round(total_AUC_test[i],4)     \n",
    "        \n",
    "        total_performances_train = [total_accuracy_train,total_sensitivity_train,total_specificity_train, total_MCC_train,total_AUC_train]\n",
    "        total_performances_test = [total_accuracy_test,total_sensitivity_test,total_specificity_test, total_MCC_test,total_AUC_test]\n",
    "    return total_performances_train, total_performances_test"
   ]
  },
  {
   "cell_type": "code",
   "execution_count": 19,
   "metadata": {
    "id": "VCHilYaTqTbw"
   },
   "outputs": [],
   "source": [
    "###############TESTING ONE BY ONE #######################"
   ]
  },
  {
   "cell_type": "code",
   "execution_count": 20,
   "metadata": {
    "id": "BbzsPegcQSsF"
   },
   "outputs": [],
   "source": [
    "def KNN(k,t_vec_train,t_vec_val,t_vec_test):\n",
    "    #ML_model =KNeighborsClassifier(n_neighbors=3) first running\n",
    "    ML_model =KNeighborsClassifier(n_neighbors=9)\n",
    "    return Machine_Learning(k,ML_model,t_vec_train,t_vec_val,t_vec_test)\n",
    "\n",
    "def XGB(k,t_vec_train,t_vec_val,t_vec_test):\n",
    "    #ML_model =xgb.XGBClassifier(n_estimators=200, learning_rate=1,max_depth=1, random_state=42)\n",
    "    ML_model =xgb.XGBClassifier(n_estimators=200, learning_rate=0.05,max_depth=1, random_state=42)\n",
    "    return Machine_Learning(k,ML_model,t_vec_train,t_vec_val,t_vec_test)\n",
    "\n",
    "def SVM(k,t_vec_train,t_vec_val,t_vec_test):\n",
    "    #ML_model =svm.SVC(C=1, gamma= 'scale', kernel= 'rbf', random_state=42) first running\n",
    "    ML_model =svm.SVC(C=5, gamma= 0.1, kernel= 'rbf', random_state=42)\n",
    "    return Machine_Learning(k,ML_model,t_vec_train,t_vec_val,t_vec_test)\n",
    "\n",
    "def LR(k,t_vec_train,t_vec_val,t_vec_test):\n",
    "    #ML_model =LogisticRegression(solver='liblinear',random_state=42)first running\n",
    "    ML_model =LogisticRegression(solver='liblinear',random_state=42,C=1)\n",
    "    return Machine_Learning(k,ML_model,t_vec_train,t_vec_val,t_vec_test)\n",
    "\n",
    "def RF(k,t_vec_train,t_vec_val,t_vec_test):\n",
    "    #ML_model =RandomForestClassifier(n_estimators=500,random_state=42,n_jobs=-1)first running\n",
    "    ML_model =RandomForestClassifier(n_estimators=5,random_state=42,n_jobs=-1,max_depth=25, max_leaf_nodes=5,min_samples_leaf=5)\n",
    "    #max_depth=25, max_leaf_nodes=5,min_samples_leaf=5, n_estimators=5\n",
    "    return Machine_Learning(k,ML_model,t_vec_train,t_vec_val,t_vec_test)\n",
    "\n",
    "def Lasso(k,t_vec_train,t_vec_val,t_vec_test):\n",
    "    ML_model =linear_model.Lasso(alpha=0.01)\n",
    "    return Machine_Learning(k,ML_model,t_vec_train,t_vec_val,t_vec_test)"
   ]
  },
  {
   "cell_type": "code",
   "execution_count": 21,
   "metadata": {
    "id": "5qFUVGafQh-m"
   },
   "outputs": [],
   "source": [
    "total_train_data,total_train_targets,total_validation_data,total_validation_targets = CF_Validation(k=5,train_data = X_train,train_targets=y_train)"
   ]
  },
  {
   "cell_type": "code",
   "execution_count": 22,
   "metadata": {
    "id": "YJq1e0IvQfWd"
   },
   "outputs": [],
   "source": [
    "t_vec_train =get_vec_data(total_train_data,total_train_targets,5)\n",
    "t_vec_val = get_vec_data(total_validation_data,total_validation_targets,5)\n",
    "\n",
    "t_vec_test= [X_test,y_test]"
   ]
  },
  {
   "cell_type": "code",
   "execution_count": 23,
   "metadata": {
    "id": "VLk_CuuHmxhY"
   },
   "outputs": [],
   "source": [
    "total_y_pred_train,total_y_true_train,total_y_pred_test,total_y_true_test=KNN(5,t_vec_train,t_vec_val,t_vec_test)\n",
    "KNN_total_performances_train1,KNN_total_performances_test1 = Total_Performances(5, total_y_pred_train,total_y_true_train,\n",
    "                                                                         total_y_pred_test,total_y_true_test)"
   ]
  },
  {
   "cell_type": "code",
   "execution_count": 24,
   "metadata": {
    "colab": {
     "base_uri": "https://localhost:8080/"
    },
    "id": "n1qOrdBRm5fB",
    "outputId": "3a3a89ab-0777-40a9-a1dd-1d8a66ee42f8"
   },
   "outputs": [
    {
     "data": {
      "text/plain": [
       "([[0.6667, 0.7, 0.6722, 0.6722, 0.6722],\n",
       "  [0.5, 0.5132, 0.4737, 0.4868, 0.4211],\n",
       "  [0.7885, 0.8365, 0.8173, 0.8077, 0.8558],\n",
       "  [0.3022, 0.3731, 0.312, 0.3127, 0.3113],\n",
       "  [0.6442, 0.6748, 0.6455, 0.6473, 0.6384]],\n",
       " [[0.7556, 0.7111, 0.7556, 0.8, 0.8],\n",
       "  [0.5625, 0.375, 0.5, 0.5625, 0.5],\n",
       "  [0.8621, 0.8966, 0.8966, 0.931, 0.9655],\n",
       "  [0.4484, 0.325, 0.4417, 0.5497, 0.5571],\n",
       "  [0.7123, 0.6358, 0.6983, 0.7468, 0.7328]])"
      ]
     },
     "execution_count": 24,
     "metadata": {},
     "output_type": "execute_result"
    }
   ],
   "source": [
    "KNN_total_performances_train1,KNN_total_performances_test1 #acc test score = 0.75556"
   ]
  },
  {
   "cell_type": "code",
   "execution_count": 25,
   "metadata": {
    "id": "sYuKdvSoqXvq"
   },
   "outputs": [],
   "source": [
    "total_y_pred_train,total_y_true_train,total_y_pred_test,total_y_true_test=XGB(5,t_vec_train,t_vec_val,t_vec_test)\n",
    "XGB_total_performances_train1,XGB_total_performances_test1 = Total_Performances(5, total_y_pred_train,total_y_true_train,\n",
    "                                                                         total_y_pred_test,total_y_true_test)"
   ]
  },
  {
   "cell_type": "code",
   "execution_count": 26,
   "metadata": {
    "colab": {
     "base_uri": "https://localhost:8080/"
    },
    "id": "JUqEBFA4qcxX",
    "outputId": "80d797b7-80b5-48b7-8b2e-8396123eb9d1"
   },
   "outputs": [
    {
     "data": {
      "text/plain": [
       "([[0.6944, 0.7389, 0.7111, 0.75, 0.7056],\n",
       "  [0.4605, 0.5658, 0.4474, 0.5921, 0.4211],\n",
       "  [0.8654, 0.8654, 0.9038, 0.8654, 0.9135],\n",
       "  [0.3617, 0.4578, 0.4036, 0.4814, 0.3939],\n",
       "  [0.663, 0.7156, 0.6756, 0.7287, 0.6673]],\n",
       " [[0.6444, 0.6222, 0.6889, 0.5778, 0.6444],\n",
       "  [0.25, 0.1875, 0.1875, 0.25, 0.125],\n",
       "  [0.8621, 0.8621, 0.9655, 0.7586, 0.931],\n",
       "  [0.1403, 0.0655, 0.2574, 0.0096, 0.0943],\n",
       "  [0.556, 0.5248, 0.5765, 0.5043, 0.528]])"
      ]
     },
     "execution_count": 26,
     "metadata": {},
     "output_type": "execute_result"
    }
   ],
   "source": [
    "XGB_total_performances_train1,XGB_total_performances_test1 #acc test score =0.6266"
   ]
  },
  {
   "cell_type": "code",
   "execution_count": 27,
   "metadata": {
    "id": "X7S2a124qlUO"
   },
   "outputs": [],
   "source": [
    "total_y_pred_train,total_y_true_train,total_y_pred_test,total_y_true_test=SVM(5,t_vec_train,t_vec_val,t_vec_test)\n",
    "SVM_total_performances_train1,SVM_total_performances_test1 = Total_Performances(5, total_y_pred_train,total_y_true_train,\n",
    "                                                                         total_y_pred_test,total_y_true_test)"
   ]
  },
  {
   "cell_type": "code",
   "execution_count": 28,
   "metadata": {
    "colab": {
     "base_uri": "https://localhost:8080/"
    },
    "id": "ZM8U-C6XqtoN",
    "outputId": "9e7239bc-c7e2-4199-aa5b-13fd5416550a"
   },
   "outputs": [
    {
     "data": {
      "text/plain": [
       "([[0.7444, 0.7722, 0.7556, 0.7333, 0.7333],\n",
       "  [0.5132, 0.5263, 0.4342, 0.4474, 0.4211],\n",
       "  [0.9135, 0.9519, 0.9904, 0.9423, 0.9615],\n",
       "  [0.4765, 0.5455, 0.5358, 0.4629, 0.4724],\n",
       "  [0.7133, 0.7391, 0.7123, 0.6948, 0.6913]],\n",
       " [[0.8222, 0.7556, 0.7333, 0.7556, 0.7556],\n",
       "  [0.5, 0.375, 0.3125, 0.375, 0.3125],\n",
       "  [1.0, 0.9655, 0.9655, 0.9655, 1.0],\n",
       "  [0.626, 0.4497, 0.3915, 0.4497, 0.476],\n",
       "  [0.75, 0.6703, 0.639, 0.6703, 0.6562]])"
      ]
     },
     "execution_count": 28,
     "metadata": {},
     "output_type": "execute_result"
    }
   ],
   "source": [
    "SVM_total_performances_train1,SVM_total_performances_test1 #acc test score =0.75112"
   ]
  },
  {
   "cell_type": "code",
   "execution_count": 29,
   "metadata": {
    "id": "VhWaSgZqqwq5"
   },
   "outputs": [],
   "source": [
    "total_y_pred_train,total_y_true_train,total_y_pred_test,total_y_true_test=LR(5,t_vec_train,t_vec_val,t_vec_test)\n",
    "LR_total_performances_train1,LR_total_performances_test1 = Total_Performances(5, total_y_pred_train,total_y_true_train,\n",
    "                                                                         total_y_pred_test,total_y_true_test)"
   ]
  },
  {
   "cell_type": "code",
   "execution_count": 30,
   "metadata": {
    "colab": {
     "base_uri": "https://localhost:8080/"
    },
    "id": "BFOL6mooq4EI",
    "outputId": "d663e93d-641d-42d1-d669-17c08fb33108"
   },
   "outputs": [
    {
     "data": {
      "text/plain": [
       "([[0.7111, 0.7222, 0.6944, 0.6944, 0.7],\n",
       "  [0.5395, 0.5263, 0.4342, 0.4342, 0.4079],\n",
       "  [0.8365, 0.8654, 0.8846, 0.8846, 0.9135],\n",
       "  [0.3974, 0.4222, 0.3637, 0.3637, 0.3818],\n",
       "  [0.688, 0.6959, 0.6594, 0.6594, 0.6607]],\n",
       " [[0.8222, 0.7556, 0.7556, 0.8, 0.7333],\n",
       "  [0.5625, 0.375, 0.375, 0.5, 0.3125],\n",
       "  [0.9655, 0.9655, 0.9655, 0.9655, 0.9655],\n",
       "  [0.608, 0.4497, 0.4497, 0.5571, 0.3915],\n",
       "  [0.764, 0.6703, 0.6703, 0.7328, 0.639]])"
      ]
     },
     "execution_count": 30,
     "metadata": {},
     "output_type": "execute_result"
    }
   ],
   "source": [
    "LR_total_performances_train1,LR_total_performances_test1 #acc test score =0.77334"
   ]
  },
  {
   "cell_type": "code",
   "execution_count": 31,
   "metadata": {
    "id": "cJwjkWqhrH0Q"
   },
   "outputs": [],
   "source": [
    "total_y_pred_train,total_y_true_train,total_y_pred_test,total_y_true_test=RF(5,t_vec_train,t_vec_val,t_vec_test)\n",
    "RF_total_performances_train1,RF_total_performances_test1 = Total_Performances(5, total_y_pred_train,total_y_true_train,\n",
    "                                                                         total_y_pred_test,total_y_true_test)"
   ]
  },
  {
   "cell_type": "code",
   "execution_count": 32,
   "metadata": {
    "colab": {
     "base_uri": "https://localhost:8080/"
    },
    "id": "F-QVsgofrLa_",
    "outputId": "7cb301f1-a7b5-4ac9-a889-49cd904f860b"
   },
   "outputs": [
    {
     "data": {
      "text/plain": [
       "([[0.6611, 0.6278, 0.6611, 0.6389, 0.6278],\n",
       "  [0.3816, 0.4474, 0.3289, 0.3816, 0.3421],\n",
       "  [0.8654, 0.7596, 0.9038, 0.8269, 0.8365],\n",
       "  [0.2861, 0.2178, 0.2905, 0.2345, 0.2069],\n",
       "  [0.6235, 0.6035, 0.6164, 0.6043, 0.5893]],\n",
       " [[0.7333, 0.6, 0.6889, 0.6222, 0.6444],\n",
       "  [0.3125, 0.25, 0.25, 0.125, 0.125],\n",
       "  [0.9655, 0.7931, 0.931, 0.8966, 0.931],\n",
       "  [0.3915, 0.0496, 0.2549, 0.0328, 0.0943],\n",
       "  [0.639, 0.5216, 0.5905, 0.5108, 0.528]])"
      ]
     },
     "execution_count": 32,
     "metadata": {},
     "output_type": "execute_result"
    }
   ],
   "source": [
    "RF_total_performances_train1,RF_total_performances_test1 #acc test score =0.68"
   ]
  },
  {
   "cell_type": "code",
   "execution_count": 33,
   "metadata": {
    "id": "xgQajdIVqJYL"
   },
   "outputs": [],
   "source": [
    "total_y_pred_train,total_y_true_train,total_y_pred_test,total_y_true_test=Lasso(5,t_vec_train,t_vec_val,t_vec_test)\n",
    "Lasso_total_performances_train1,Lasso_total_performances_test1 = Total_Performances(5, total_y_pred_train,total_y_true_train,\n",
    "                                                                         total_y_pred_test,total_y_true_test)"
   ]
  },
  {
   "cell_type": "code",
   "execution_count": 34,
   "metadata": {
    "colab": {
     "base_uri": "https://localhost:8080/"
    },
    "id": "izdiEMJErE7k",
    "outputId": "afdc786b-36ad-452a-8772-8d775e5c6759"
   },
   "outputs": [
    {
     "data": {
      "text/plain": [
       "([[0.65, 0.65, 0.6611, 0.6278, 0.6556],\n",
       "  [0.3816, 0.3026, 0.3026, 0.2368, 0.2632],\n",
       "  [0.8462, 0.9038, 0.9231, 0.9135, 0.9423],\n",
       "  [0.2598, 0.2636, 0.2953, 0.2079, 0.2887],\n",
       "  [0.6139, 0.6032, 0.6129, 0.5752, 0.6027]],\n",
       " [[0.7556, 0.6667, 0.6667, 0.6667, 0.6667],\n",
       "  [0.4375, 0.125, 0.125, 0.125, 0.0625],\n",
       "  [0.931, 0.9655, 0.9655, 0.9655, 1.0],\n",
       "  [0.441, 0.1737, 0.1737, 0.1737, 0.203],\n",
       "  [0.6843, 0.5453, 0.5453, 0.5453, 0.5312]])"
      ]
     },
     "execution_count": 34,
     "metadata": {},
     "output_type": "execute_result"
    }
   ],
   "source": [
    "Lasso_total_performances_train1,Lasso_total_performances_test1#acc test score =0.6844"
   ]
  },
  {
   "cell_type": "code",
   "execution_count": 35,
   "metadata": {
    "id": "HIIIRuXw0NwS"
   },
   "outputs": [],
   "source": [
    "from sklearn.pipeline import Pipeline\n",
    "from sklearn.decomposition import PCA"
   ]
  },
  {
   "cell_type": "code",
   "execution_count": 36,
   "metadata": {
    "id": "c_gjZQW20QVa"
   },
   "outputs": [],
   "source": [
    "pipeline_randomforest=Pipeline([('scalar1',StandardScaler()),\n",
    "                     ('pca1',PCA()),\n",
    "                     ('rf_classifier',RandomForestClassifier(random_state=100))])\n",
    "pipeline_svm=Pipeline([('scalar2',StandardScaler()),\n",
    "                     ('pca2',PCA()),\n",
    "                     ('svm_classifier',svm.SVC())])\n",
    "pipeline_lr=Pipeline([('scalar3',StandardScaler()),\n",
    "                     ('pca3',PCA()),\n",
    "                     ('lr_classifier',LogisticRegression(random_state=0))])\n",
    "pipeline_xgb=Pipeline([('scalar5',StandardScaler()),\n",
    "                       ('pca5',PCA()),\n",
    "                       (\"clf\", xgb.XGBClassifier())])\n",
    "pipeline_knn=Pipeline([('scalar6',StandardScaler()),\n",
    "                       ('pca6',PCA()),\n",
    "                       (\"knn_classifier\", KNeighborsClassifier())])"
   ]
  },
  {
   "cell_type": "code",
   "execution_count": 37,
   "metadata": {
    "id": "P2nhSpu50a_j"
   },
   "outputs": [],
   "source": [
    "pipelines = [pipeline_randomforest, pipeline_svm, pipeline_lr,pipeline_xgb,pipeline_knn]"
   ]
  },
  {
   "cell_type": "code",
   "execution_count": 38,
   "metadata": {
    "id": "K141u9Jy0gLD"
   },
   "outputs": [],
   "source": [
    "best_accuracy=0.0\n",
    "best_classifier=0\n",
    "best_pipeline=\"\""
   ]
  },
  {
   "cell_type": "code",
   "execution_count": 39,
   "metadata": {
    "id": "soFOdj4E0hkq"
   },
   "outputs": [],
   "source": [
    "# Dictionary of pipelines and classifier types for ease of reference\n",
    "pipe_dict = {0: 'RandomForest', 1: 'svm', 2: 'LogisticRegression', 3:'xgb.XGBClassifier',\n",
    "             4: 'KNeighborsClassifier'}\n",
    "\n",
    "# Fit the pipelines\n",
    "for pipe in pipelines:\n",
    "    pipe.fit(X_train, y_train)"
   ]
  },
  {
   "cell_type": "code",
   "execution_count": 40,
   "metadata": {
    "colab": {
     "base_uri": "https://localhost:8080/"
    },
    "id": "bZzYdwXX0o4D",
    "outputId": "f2aebad9-b515-4701-f16e-874b91ffc6fa"
   },
   "outputs": [
    {
     "name": "stdout",
     "output_type": "stream",
     "text": [
      "RandomForest Test Accuracy: 0.7333333333333333\n",
      "svm Test Accuracy: 0.7555555555555555\n",
      "LogisticRegression Test Accuracy: 0.7777777777777778\n",
      "xgb.XGBClassifier Test Accuracy: 0.7555555555555555\n",
      "KNeighborsClassifier Test Accuracy: 0.8\n"
     ]
    }
   ],
   "source": [
    "for i,model in enumerate(pipelines):\n",
    "    print(\"{} Test Accuracy: {}\".format(pipe_dict[i],model.score(X_test, y_test)))"
   ]
  },
  {
   "cell_type": "code",
   "execution_count": 44,
   "metadata": {
    "id": "zwWdWZ-a05pC"
   },
   "outputs": [],
   "source": [
    "# Create a pipeline\n",
    "pipe = Pipeline([(\"classifier\", RandomForestClassifier())])\n",
    "# Create dictionary with candidate learning algorithms and their hyperparameters\n",
    "grid_param = [\n",
    "                 {\"classifier\": [RandomForestClassifier()],\n",
    "                 \"classifier__n_estimators\": [5,10,40,60,80,100,120,400],\n",
    "                 \"classifier__max_depth\":[5,8,15,25,30,None],\n",
    "                 \"classifier__min_samples_leaf\":[1,2,5,10,15,100],\n",
    "                 \"classifier__max_leaf_nodes\": [2, 5,10]}]\n",
    "# create a gridsearch of the pipeline, the fit the best model\n",
    "gridsearch = GridSearchCV(pipe, grid_param, cv=10, verbose=0,n_jobs=-1) # Fit grid search\n",
    "best_model = gridsearch.fit(X_train,y_train)"
   ]
  },
  {
   "cell_type": "code",
   "execution_count": 45,
   "metadata": {
    "colab": {
     "base_uri": "https://localhost:8080/"
    },
    "id": "i3eOd5MI0-di",
    "outputId": "2e861784-b458-4d75-ad52-215ea81b2955"
   },
   "outputs": [
    {
     "name": "stdout",
     "output_type": "stream",
     "text": [
      "Pipeline(steps=[('classifier',\n",
      "                 RandomForestClassifier(max_depth=30, max_leaf_nodes=5,\n",
      "                                        min_samples_leaf=2, n_estimators=40))])\n",
      "The mean accuracy of the model is: 0.6888888888888889\n"
     ]
    }
   ],
   "source": [
    "#RANDOM FOREST\n",
    "print(best_model.best_estimator_)\n",
    "print(\"The mean accuracy of the model is:\",best_model.score(X_test,y_test))"
   ]
  },
  {
   "cell_type": "code",
   "execution_count": 46,
   "metadata": {
    "id": "ufwBdGwkzTQO"
   },
   "outputs": [],
   "source": [
    "## GRID SEARCH SVM\n",
    "pipe = Pipeline([(\"classifier\", SVC())])\n",
    "# Create dictionary with candidate learning algorithms and their hyperparameters\n",
    "grid_param = [\n",
    "                 {\"classifier\":[SVC()],\n",
    "                 \"classifier__kernel\":['rbf'],\n",
    "                 \"classifier__C\":[0.01,0.1,1,5,10,15,20,50,100],\n",
    "                 \"classifier__gamma\":[0.0001,0.001,0.01,0.1,1,5,10,15,20,50,100]}]\n",
    "# create a gridsearch of the pipeline, the fit the best model\n",
    "gridsearch = GridSearchCV(pipe, grid_param, cv=3, verbose=0,n_jobs=-1) # Fit grid search\n",
    "best_model = gridsearch.fit(X_train,y_train)"
   ]
  },
  {
   "cell_type": "code",
   "execution_count": 47,
   "metadata": {
    "colab": {
     "base_uri": "https://localhost:8080/"
    },
    "id": "jtjR30EJ1LKT",
    "outputId": "5c9e53e6-422b-483f-8499-c052f6419973"
   },
   "outputs": [
    {
     "name": "stdout",
     "output_type": "stream",
     "text": [
      "Pipeline(steps=[('classifier', SVC(C=5, gamma=0.1))])\n",
      "The mean accuracy of the model is: 0.7333333333333333\n"
     ]
    }
   ],
   "source": [
    "print(best_model.best_estimator_)\n",
    "print(\"The mean accuracy of the model is:\",best_model.score(X_test,y_test))"
   ]
  },
  {
   "cell_type": "code",
   "execution_count": 48,
   "metadata": {
    "id": "5MV9YQhE1NZS"
   },
   "outputs": [],
   "source": [
    "##Pipeline LR\n",
    "pipe = Pipeline([(\"classifier\", LogisticRegression())])\n",
    "# Create dictionary with candidate learning algorithms and their hyperparameters\n",
    "grid_param = [\n",
    "                 {\"classifier\": [LogisticRegression()],\n",
    "                 \"classifier__C\": [1,5,10,50,100,200,500],\n",
    "                 \"classifier__multi_class\":['auto'],\n",
    "                 \"classifier__solver\":['liblinear']}]\n",
    "# create a gridsearch of the pipeline, the fit the best model\n",
    "gridsearch = GridSearchCV(pipe, grid_param, cv=10, verbose=0,n_jobs=-1) # Fit grid search\n",
    "best_model = gridsearch.fit(X_train,y_train)"
   ]
  },
  {
   "cell_type": "code",
   "execution_count": 49,
   "metadata": {
    "colab": {
     "base_uri": "https://localhost:8080/"
    },
    "id": "IUsd2zEmzrJ7",
    "outputId": "7dbb7308-60d8-47f8-8031-ad45736e83ec"
   },
   "outputs": [
    {
     "name": "stdout",
     "output_type": "stream",
     "text": [
      "Pipeline(steps=[('classifier', LogisticRegression(C=1, solver='liblinear'))])\n",
      "The mean accuracy of the model is: 0.8\n"
     ]
    }
   ],
   "source": [
    "print(best_model.best_estimator_)\n",
    "print(\"The mean accuracy of the model is:\",best_model.score(X_test,y_test))"
   ]
  },
  {
   "cell_type": "code",
   "execution_count": 50,
   "metadata": {
    "id": "VkEeQE_0zupa"
   },
   "outputs": [],
   "source": [
    "##Pipeline KNN\n",
    "pipe = Pipeline([(\"classifier\", KNeighborsClassifier())])\n",
    "# Create dictionary with candidate learning algorithms and their hyperparameters\n",
    "grid_param = [\n",
    "                 {\"classifier\": [KNeighborsClassifier()],\n",
    "                 \"classifier__n_neighbors\": [1, 2, 3, 4, 5, 6, 7, 8, 9, 10, 11, 12, 13, 14, 15, 16, 17, 18, 19]}]\n",
    "# create a gridsearch of the pipeline, the fit the best model\n",
    "gridsearch = GridSearchCV(pipe, grid_param, cv=10, verbose=0,n_jobs=-1) # Fit grid search\n",
    "best_model = gridsearch.fit(X_train,y_train)"
   ]
  },
  {
   "cell_type": "code",
   "execution_count": 51,
   "metadata": {
    "colab": {
     "base_uri": "https://localhost:8080/"
    },
    "id": "CPGN7dyJzxb6",
    "outputId": "5d585179-702b-4482-f712-f2a9d84d799d"
   },
   "outputs": [
    {
     "name": "stdout",
     "output_type": "stream",
     "text": [
      "Pipeline(steps=[('classifier', KNeighborsClassifier(n_neighbors=9))])\n",
      "The mean accuracy of the model is: 0.7333333333333333\n"
     ]
    }
   ],
   "source": [
    "print(best_model.best_estimator_)\n",
    "print(\"The mean accuracy of the model is:\",best_model.score(X_test,y_test))"
   ]
  },
  {
   "cell_type": "code",
   "execution_count": 52,
   "metadata": {
    "id": "y-7M8zVd54Hw"
   },
   "outputs": [],
   "source": [
    "#######################AFTER GRID SEARCH CV############################"
   ]
  },
  {
   "cell_type": "code",
   "execution_count": 53,
   "metadata": {
    "id": "AV0JNN6M562n"
   },
   "outputs": [],
   "source": [
    "def KNN(k,t_vec_train,t_vec_val,t_vec_test):\n",
    "    #ML_model =KNeighborsClassifier(n_neighbors=3) first running\n",
    "    ML_model =KNeighborsClassifier(n_neighbors=9)\n",
    "    return Machine_Learning(k,ML_model,t_vec_train,t_vec_val,t_vec_test)\n",
    "\n",
    "def SVM(k,t_vec_train,t_vec_val,t_vec_test):\n",
    "    #ML_model =svm.SVC(C=1, gamma= 'scale', kernel= 'rbf', random_state=42) first running\n",
    "    ML_model =svm.SVC(C=5, gamma= 0.1, kernel= 'rbf', random_state=42)\n",
    "    return Machine_Learning(k,ML_model,t_vec_train,t_vec_val,t_vec_test)\n",
    "\n",
    "def LR(k,t_vec_train,t_vec_val,t_vec_test):\n",
    "    #ML_model =LogisticRegression(solver='liblinear',random_state=42)first running\n",
    "    ML_model =LogisticRegression(solver='liblinear',random_state=42,C=1)\n",
    "    return Machine_Learning(k,ML_model,t_vec_train,t_vec_val,t_vec_test)\n",
    "\n",
    "def RF(k,t_vec_train,t_vec_val,t_vec_test):\n",
    "    #ML_model =RandomForestClassifier(n_estimators=500,random_state=42,n_jobs=-1)first running\n",
    "    ML_model =RandomForestClassifier(n_estimators=5,random_state=42,n_jobs=-1,max_depth=25, max_leaf_nodes=5,min_samples_leaf=5)\n",
    "    #max_depth=25, max_leaf_nodes=5,min_samples_leaf=5, n_estimators=5\n",
    "    return Machine_Learning(k,ML_model,t_vec_train,t_vec_val,t_vec_test)"
   ]
  },
  {
   "cell_type": "code",
   "execution_count": 54,
   "metadata": {
    "id": "qQYjCMa65_yP"
   },
   "outputs": [],
   "source": [
    "total_y_pred_train,total_y_true_train,total_y_pred_test,total_y_true_test=KNN(5,t_vec_train,t_vec_val,t_vec_test)\n",
    "KNN_total_performances_train1,KNN_total_performances_test1 = Total_Performances(5, total_y_pred_train,total_y_true_train,\n",
    "                                                                         total_y_pred_test,total_y_true_test)"
   ]
  },
  {
   "cell_type": "code",
   "execution_count": 55,
   "metadata": {
    "colab": {
     "base_uri": "https://localhost:8080/"
    },
    "id": "2kdBo-5W6Dx_",
    "outputId": "b8c431c5-7366-4b3d-c9b5-5e5b0ff1c854"
   },
   "outputs": [
    {
     "data": {
      "text/plain": [
       "([[0.6667, 0.7, 0.6722, 0.6722, 0.6722],\n",
       "  [0.5, 0.5132, 0.4737, 0.4868, 0.4211],\n",
       "  [0.7885, 0.8365, 0.8173, 0.8077, 0.8558],\n",
       "  [0.3022, 0.3731, 0.312, 0.3127, 0.3113],\n",
       "  [0.6442, 0.6748, 0.6455, 0.6473, 0.6384]],\n",
       " [[0.7556, 0.7111, 0.7556, 0.8, 0.8],\n",
       "  [0.5625, 0.375, 0.5, 0.5625, 0.5],\n",
       "  [0.8621, 0.8966, 0.8966, 0.931, 0.9655],\n",
       "  [0.4484, 0.325, 0.4417, 0.5497, 0.5571],\n",
       "  [0.7123, 0.6358, 0.6983, 0.7468, 0.7328]])"
      ]
     },
     "execution_count": 55,
     "metadata": {},
     "output_type": "execute_result"
    }
   ],
   "source": [
    "KNN_total_performances_train1,KNN_total_performances_test1 #acc test score = 0.7644"
   ]
  },
  {
   "cell_type": "code",
   "execution_count": 56,
   "metadata": {
    "id": "QNyBl4k961Tn"
   },
   "outputs": [],
   "source": [
    "total_y_pred_train,total_y_true_train,total_y_pred_test,total_y_true_test=SVM(5,t_vec_train,t_vec_val,t_vec_test)\n",
    "SVM_total_performances_train1,SVM_total_performances_test1 = Total_Performances(5, total_y_pred_train,total_y_true_train,\n",
    "                                                                         total_y_pred_test,total_y_true_test)"
   ]
  },
  {
   "cell_type": "code",
   "execution_count": 57,
   "metadata": {
    "colab": {
     "base_uri": "https://localhost:8080/"
    },
    "id": "uiAHQKxM658p",
    "outputId": "6be4d4a4-9429-48a8-f822-5e0f0d32914e"
   },
   "outputs": [
    {
     "data": {
      "text/plain": [
       "([[0.7444, 0.7722, 0.7556, 0.7333, 0.7333],\n",
       "  [0.5132, 0.5263, 0.4342, 0.4474, 0.4211],\n",
       "  [0.9135, 0.9519, 0.9904, 0.9423, 0.9615],\n",
       "  [0.4765, 0.5455, 0.5358, 0.4629, 0.4724],\n",
       "  [0.7133, 0.7391, 0.7123, 0.6948, 0.6913]],\n",
       " [[0.8222, 0.7556, 0.7333, 0.7556, 0.7556],\n",
       "  [0.5, 0.375, 0.3125, 0.375, 0.3125],\n",
       "  [1.0, 0.9655, 0.9655, 0.9655, 1.0],\n",
       "  [0.626, 0.4497, 0.3915, 0.4497, 0.476],\n",
       "  [0.75, 0.6703, 0.639, 0.6703, 0.6562]])"
      ]
     },
     "execution_count": 57,
     "metadata": {},
     "output_type": "execute_result"
    }
   ],
   "source": [
    "SVM_total_performances_train1,SVM_total_performances_test1 #acc test score =0.7644"
   ]
  },
  {
   "cell_type": "code",
   "execution_count": 58,
   "metadata": {
    "id": "vpHhurRa7MCX"
   },
   "outputs": [],
   "source": [
    "total_y_pred_train,total_y_true_train,total_y_pred_test,total_y_true_test=LR(5,t_vec_train,t_vec_val,t_vec_test)\n",
    "LR_total_performances_train1,LR_total_performances_test1 = Total_Performances(5, total_y_pred_train,total_y_true_train,\n",
    "                                                                         total_y_pred_test,total_y_true_test)"
   ]
  },
  {
   "cell_type": "code",
   "execution_count": 59,
   "metadata": {
    "colab": {
     "base_uri": "https://localhost:8080/"
    },
    "id": "shp5WoAx7QMm",
    "outputId": "a38f23e7-9aed-4528-a5c9-7da0db8b9548"
   },
   "outputs": [
    {
     "data": {
      "text/plain": [
       "([[0.7111, 0.7222, 0.6944, 0.6944, 0.7],\n",
       "  [0.5395, 0.5263, 0.4342, 0.4342, 0.4079],\n",
       "  [0.8365, 0.8654, 0.8846, 0.8846, 0.9135],\n",
       "  [0.3974, 0.4222, 0.3637, 0.3637, 0.3818],\n",
       "  [0.688, 0.6959, 0.6594, 0.6594, 0.6607]],\n",
       " [[0.8222, 0.7556, 0.7556, 0.8, 0.7333],\n",
       "  [0.5625, 0.375, 0.375, 0.5, 0.3125],\n",
       "  [0.9655, 0.9655, 0.9655, 0.9655, 0.9655],\n",
       "  [0.608, 0.4497, 0.4497, 0.5571, 0.3915],\n",
       "  [0.764, 0.6703, 0.6703, 0.7328, 0.639]])"
      ]
     },
     "execution_count": 59,
     "metadata": {},
     "output_type": "execute_result"
    }
   ],
   "source": [
    "LR_total_performances_train1,LR_total_performances_test1 #acc test score =0.7733"
   ]
  },
  {
   "cell_type": "code",
   "execution_count": 60,
   "metadata": {
    "id": "z1IgeVO27fQO"
   },
   "outputs": [],
   "source": [
    "total_y_pred_train,total_y_true_train,total_y_pred_test,total_y_true_test=RF(5,t_vec_train,t_vec_val,t_vec_test)\n",
    "RF_total_performances_train1,RF_total_performances_test1 = Total_Performances(5, total_y_pred_train,total_y_true_train,\n",
    "                                                                         total_y_pred_test,total_y_true_test)"
   ]
  },
  {
   "cell_type": "code",
   "execution_count": 61,
   "metadata": {
    "colab": {
     "base_uri": "https://localhost:8080/"
    },
    "id": "lWa9_Kvf7tkH",
    "outputId": "23632a94-48e5-48e5-ebd8-87b6afd55f12"
   },
   "outputs": [
    {
     "data": {
      "text/plain": [
       "([[0.6611, 0.6278, 0.6611, 0.6389, 0.6278],\n",
       "  [0.3816, 0.4474, 0.3289, 0.3816, 0.3421],\n",
       "  [0.8654, 0.7596, 0.9038, 0.8269, 0.8365],\n",
       "  [0.2861, 0.2178, 0.2905, 0.2345, 0.2069],\n",
       "  [0.6235, 0.6035, 0.6164, 0.6043, 0.5893]],\n",
       " [[0.7333, 0.6, 0.6889, 0.6222, 0.6444],\n",
       "  [0.3125, 0.25, 0.25, 0.125, 0.125],\n",
       "  [0.9655, 0.7931, 0.931, 0.8966, 0.931],\n",
       "  [0.3915, 0.0496, 0.2549, 0.0328, 0.0943],\n",
       "  [0.639, 0.5216, 0.5905, 0.5108, 0.528]])"
      ]
     },
     "execution_count": 61,
     "metadata": {},
     "output_type": "execute_result"
    }
   ],
   "source": [
    "RF_total_performances_train1,RF_total_performances_test1 #acc test score =0.6577"
   ]
  }
 ],
 "metadata": {
  "colab": {
   "provenance": []
  },
  "kernelspec": {
   "display_name": "Python 3 (ipykernel)",
   "language": "python",
   "name": "python3"
  },
  "language_info": {
   "codemirror_mode": {
    "name": "ipython",
    "version": 3
   },
   "file_extension": ".py",
   "mimetype": "text/x-python",
   "name": "python",
   "nbconvert_exporter": "python",
   "pygments_lexer": "ipython3",
   "version": "3.7.13"
  }
 },
 "nbformat": 4,
 "nbformat_minor": 1
}
